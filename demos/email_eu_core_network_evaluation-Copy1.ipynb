{
 "cells": [
  {
   "cell_type": "markdown",
   "metadata": {},
   "source": [
    "# This notebook provides evaluation of the algorithm on [\"email-Eu-core network\"](http://snap.stanford.edu/data/email-Eu-core.html) dataset with ground-truth communities"
   ]
  },
  {
   "cell_type": "code",
   "execution_count": null,
   "metadata": {},
   "outputs": [],
   "source": [
    "from simple_nodes_embedding.embedding import DiGraphCSR, Systems, SysLeft, SystemRight\n",
    "from matplotlib.pyplot import figure\n",
    "import networkx as net\n",
    "import numpy as np\n",
    "import sklearn\n",
    "from sklearn.cluster import KMeans\n",
    "import community\n",
    "\n",
    "\n",
    "\n",
    "np.random.seed(19680801)\n"
   ]
  },
  {
   "cell_type": "code",
   "execution_count": null,
   "metadata": {},
   "outputs": [],
   "source": [
    "g = net.Graph()\n",
    "with open(\"email-Eu-core.txt\") as f:\n",
    "    for line in f.readlines():\n",
    "        u, v = line.split(\" \")\n",
    "        g.add_edge(int(u), int(v))\n",
    "\n"
   ]
  },
  {
   "cell_type": "code",
   "execution_count": null,
   "metadata": {},
   "outputs": [],
   "source": [
    "departments = {}\n",
    "with open(\"email-Eu-core-department-labels.txt\") as f:\n",
    "    for line in f.readlines():\n",
    "        u, department = line.split()\n",
    "        departments[int(u)] = int(department)\n",
    "departments_arr = np.array([departments[i] for i in range(len(departments))], dtype=np.int32)"
   ]
  },
  {
   "cell_type": "code",
   "execution_count": null,
   "metadata": {},
   "outputs": [],
   "source": [
    "embeddings = Systems(\n",
    "    system=SysLeft(DiGraphCSR(g), 0.7),\n",
    "    make_system_right=lambda n: SystemRight(DiGraphCSR(g), n),\n",
    "    n_nodes=g.number_of_nodes(),\n",
    ").results().T\n",
    "\n",
    "# normalzie values\n",
    "for i in range(embeddings.shape[1]):\n",
    "    embeddings[:, i] /= embeddings[:, i].max()\n",
    "\n",
    "# 42 -- number of the ground-turth clusters\n",
    "kmeans = KMeans(n_clusters=42)\n",
    "clustering = kmeans.fit(embeddings).labels_"
   ]
  },
  {
   "cell_type": "code",
   "execution_count": null,
   "metadata": {},
   "outputs": [],
   "source": [
    "# Normalized mutual information (NMI) score\n",
    "# for the generated clustering and the ground-truth communities\n",
    "\n",
    "print(\"NMI score with ground truth: \", sklearn.metrics.normalized_mutual_info_score(departments_arr, clustering))"
   ]
  },
  {
   "cell_type": "code",
   "execution_count": null,
   "metadata": {},
   "outputs": [],
   "source": [
    "# Comparison with python-louvain best_partition communities\n",
    "best_partition = community.best_partition(g)\n",
    "bp = np.array([best_partition[i] for i in range(len(best_partition))])\n",
    "print(\"NMI score between louvain best partition and the ground truth\", sklearn.metrics.normalized_mutual_info_score(bp, departments_arr))"
   ]
  },
  {
   "cell_type": "code",
   "execution_count": null,
   "metadata": {},
   "outputs": [],
   "source": [
    "# Aplying PCA dimensionality reduction to make possible 3d plotting\n",
    "# of the generated embeddings\n",
    "\n",
    "from sklearn.decomposition import PCA\n",
    "pca = PCA(n_components=3)\n",
    "pca.fit(embeddings)\n",
    "embeddings_ld = pca.transform(embeddings)\n",
    "embeddings_ld.shape\n",
    "# 42 -- number of the ground-turth clusters\n",
    "kmeans_ld = KMeans(n_clusters=42)\n",
    "clustering_ld = kmeans_ld.fit(embeddings_ld).labels_"
   ]
  },
  {
   "cell_type": "code",
   "execution_count": null,
   "metadata": {},
   "outputs": [],
   "source": [
    "print(\"NMI score with ground truth (PCA applied, 3 dimensions): \", sklearn.metrics.normalized_mutual_info_score(departments_arr, clustering))\n",
    "print(sklearn.metrics.normalized_mutual_info_score(clustering_ld, departments_arr))"
   ]
  },
  {
   "cell_type": "code",
   "execution_count": null,
   "metadata": {},
   "outputs": [],
   "source": [
    "# Plot the the result of the PCA as 3d scatter plot\n",
    "# Colors of the points represent the ground-truth department membership for each point\n",
    "\n",
    "from mpl_toolkits.mplot3d import Axes3D  # noqa: F401 unused import\n",
    "import matplotlib.pyplot as plt\n",
    "\n",
    "fig = plt.figure(figsize=(15, 15), dpi=80)\n",
    "ax = fig.add_subplot(111, projection='3d')\n",
    "\n",
    "departments = {}\n",
    "for node, dept in enumerate(departments_arr):\n",
    "    departments.setdefault(dept, []).append(\n",
    "        embeddings_ld[node]\n",
    "    )\n",
    "\n",
    "for dept in departments.values():\n",
    "    xs = np.array([x for x, y, z in dept])\n",
    "    ys = np.array([y for x, y, z in dept])\n",
    "    zs = np.array([z for x, y, z in dept])\n",
    "    ax.scatter(xs, ys, zs)\n",
    "\n",
    "ax.set_xlabel('X')\n",
    "ax.set_ylabel('Y')\n",
    "ax.set_zlabel('Z')\n",
    "\n",
    "# for angle in range(0, 360):\n",
    "ax.view_init(60, 20)\n",
    "plt.draw()"
   ]
  },
  {
   "cell_type": "code",
   "execution_count": null,
   "metadata": {},
   "outputs": [],
   "source": [
    "from sklearn.manifold import TSNE\n",
    "\n",
    "tsne = TSNE(n_components=2)\n",
    "node_embeddings_2d = tsne.fit_transform(embeddings)"
   ]
  },
  {
   "cell_type": "code",
   "execution_count": null,
   "metadata": {},
   "outputs": [],
   "source": [
    "\n",
    "plt.figure(figsize=(10, 8))\n",
    "plt.scatter(\n",
    "    node_embeddings_2d[:, 0],\n",
    "    node_embeddings_2d[:, 1],\n",
    "    c=departments_arr,\n",
    "    cmap=\"jet\",\n",
    "    alpha=0.7,\n",
    ")"
   ]
  }
 ],
 "metadata": {
  "kernelspec": {
   "display_name": "Python 3",
   "language": "python",
   "name": "python3"
  },
  "language_info": {
   "codemirror_mode": {
    "name": "ipython",
    "version": 3
   },
   "file_extension": ".py",
   "mimetype": "text/x-python",
   "name": "python",
   "nbconvert_exporter": "python",
   "pygments_lexer": "ipython3",
   "version": "3.7.7"
  }
 },
 "nbformat": 4,
 "nbformat_minor": 4
}
