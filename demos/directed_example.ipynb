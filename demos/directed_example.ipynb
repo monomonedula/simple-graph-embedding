{
 "cells": [
  {
   "cell_type": "code",
   "execution_count": 1,
   "metadata": {},
   "outputs": [
    {
     "ename": "ModuleNotFoundError",
     "evalue": "No module named 'simple_nodes_embedding'",
     "output_type": "error",
     "traceback": [
      "\u001b[0;31m---------------------------------------------------------------------------\u001b[0m",
      "\u001b[0;31mModuleNotFoundError\u001b[0m                       Traceback (most recent call last)",
      "\u001b[0;32m<ipython-input-1-795161f6612c>\u001b[0m in \u001b[0;36m<module>\u001b[0;34m\u001b[0m\n\u001b[0;32m----> 1\u001b[0;31m \u001b[0;32mfrom\u001b[0m \u001b[0msimple_nodes_embedding\u001b[0m\u001b[0;34m.\u001b[0m\u001b[0membedding\u001b[0m \u001b[0;32mimport\u001b[0m \u001b[0mDiGraphCSR\u001b[0m\u001b[0;34m,\u001b[0m \u001b[0mSystemRight\u001b[0m\u001b[0;34m,\u001b[0m \u001b[0mSysLeft\u001b[0m\u001b[0;34m,\u001b[0m \u001b[0mSystem\u001b[0m\u001b[0;34m\u001b[0m\u001b[0;34m\u001b[0m\u001b[0m\n\u001b[0m\u001b[1;32m      2\u001b[0m \u001b[0;32mfrom\u001b[0m \u001b[0mnetworkx\u001b[0m \u001b[0;32mimport\u001b[0m \u001b[0mDiGraph\u001b[0m\u001b[0;34m,\u001b[0m \u001b[0mGraph\u001b[0m\u001b[0;34m\u001b[0m\u001b[0;34m\u001b[0m\u001b[0m\n\u001b[1;32m      3\u001b[0m \u001b[0;32mimport\u001b[0m \u001b[0mmatplotlib\u001b[0m\u001b[0;34m\u001b[0m\u001b[0;34m\u001b[0m\u001b[0m\n\u001b[1;32m      4\u001b[0m \u001b[0;32mfrom\u001b[0m \u001b[0mmatplotlib\u001b[0m\u001b[0;34m.\u001b[0m\u001b[0mpyplot\u001b[0m \u001b[0;32mimport\u001b[0m \u001b[0mfigure\u001b[0m\u001b[0;34m\u001b[0m\u001b[0;34m\u001b[0m\u001b[0m\n\u001b[1;32m      5\u001b[0m \u001b[0;32mimport\u001b[0m \u001b[0mnetworkx\u001b[0m \u001b[0;32mas\u001b[0m \u001b[0mnet\u001b[0m\u001b[0;34m\u001b[0m\u001b[0;34m\u001b[0m\u001b[0m\n",
      "\u001b[0;31mModuleNotFoundError\u001b[0m: No module named 'simple_nodes_embedding'"
     ]
    }
   ],
   "source": [
    "from simple_nodes_embedding.embedding import DiGraphCSR, SystemRight, SysLeft, System\n",
    "from networkx import DiGraph, Graph\n",
    "import matplotlib\n",
    "from matplotlib.pyplot import figure\n",
    "import networkx as net"
   ]
  },
  {
   "cell_type": "code",
   "execution_count": null,
   "metadata": {},
   "outputs": [],
   "source": [
    "dg = DiGraph()\n",
    "dg.add_nodes_from(range(0, 8))\n",
    "dg.add_edge(0, 1)\n",
    "dg.add_edge(0, 3)\n",
    "dg.add_edge(2, 3)\n",
    "dg.add_edge(2, 4)\n",
    "dg.add_edge(3, 4)\n",
    "dg.add_edge(4, 5)\n",
    "dg.add_edge(4, 6)\n",
    "dg.add_edge(5, 6)\n",
    "dg.add_edge(7, 6)\n",
    "dpos=net.spring_layout(dg)"
   ]
  },
  {
   "cell_type": "code",
   "execution_count": null,
   "metadata": {},
   "outputs": [],
   "source": [
    "def draw_graph(nxgraph, csr_graph, dfactor, central_node, pos):\n",
    "    figure(num=None, figsize=(10, 12), dpi=80)\n",
    "    influence = System(SysLeft(csr_graph, dfactor)).result(SystemRight(csr_graph, central_node))\n",
    "    influence_norm = influence / influence.max()\n",
    "    net.draw_networkx(\n",
    "        dg,\n",
    "        pos,\n",
    "        arrows=True,\n",
    "        node_color=influence, \n",
    "        labels={i: \"%s (%.3f)\" % (i, influence_norm[i]) for i in range(len(nxgraph))}\n",
    "    )"
   ]
  },
  {
   "cell_type": "code",
   "execution_count": null,
   "metadata": {},
   "outputs": [],
   "source": [
    "# You can think of connections here as \"follow\" relation on Instagram\n",
    "# e.g. U -> V means \"User U follows User V\"\n",
    "# so influence flows in opposite to the edge direction\n",
    "\n",
    "draw_graph(dg, DiGraphCSR(dg), 0.85, 0, dpos)\n",
    "# In this example, we are calculating influence of node #0 in the network\n",
    "# Since it has no incoming edges, for every other node its influence is equal to 0 "
   ]
  },
  {
   "cell_type": "code",
   "execution_count": null,
   "metadata": {},
   "outputs": [],
   "source": [
    "draw_graph(dg, DiGraphCSR(dg), 0.85, 1, dpos) # influence of the node #1"
   ]
  },
  {
   "cell_type": "code",
   "execution_count": null,
   "metadata": {},
   "outputs": [],
   "source": [
    "draw_graph(dg, DiGraphCSR(dg), 0.85, 2, dpos) # influence of the node #2"
   ]
  },
  {
   "cell_type": "code",
   "execution_count": null,
   "metadata": {},
   "outputs": [],
   "source": [
    "draw_graph(dg, DiGraphCSR(dg), 0.85, 3, dpos) # influence of the node #3"
   ]
  },
  {
   "cell_type": "code",
   "execution_count": null,
   "metadata": {},
   "outputs": [],
   "source": [
    "draw_graph(dg, DiGraphCSR(dg), 0.85, 4, dpos) # influence of the node #4"
   ]
  },
  {
   "cell_type": "code",
   "execution_count": null,
   "metadata": {},
   "outputs": [],
   "source": [
    "draw_graph(dg, DiGraphCSR(dg), 0.85, 5, dpos) # influence of the node #5"
   ]
  },
  {
   "cell_type": "code",
   "execution_count": null,
   "metadata": {},
   "outputs": [],
   "source": [
    "draw_graph(dg, DiGraphCSR(dg), 0.85, 6, dpos) # influence of the node #6"
   ]
  },
  {
   "cell_type": "code",
   "execution_count": null,
   "metadata": {},
   "outputs": [],
   "source": [
    "draw_graph(dg, DiGraphCSR(dg), 0.85, 7, dpos) # influence of the node #7"
   ]
  }
 ],
 "metadata": {
  "kernelspec": {
   "display_name": "Python 3",
   "language": "python",
   "name": "python3"
  },
  "language_info": {
   "codemirror_mode": {
    "name": "ipython",
    "version": 3
   },
   "file_extension": ".py",
   "mimetype": "text/x-python",
   "name": "python",
   "nbconvert_exporter": "python",
   "pygments_lexer": "ipython3",
   "version": "3.7.7"
  }
 },
 "nbformat": 4,
 "nbformat_minor": 4
}
